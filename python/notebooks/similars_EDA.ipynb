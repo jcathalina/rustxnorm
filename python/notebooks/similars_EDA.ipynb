{
 "cells": [
  {
   "cell_type": "code",
   "execution_count": 85,
   "metadata": {},
   "outputs": [],
   "source": [
    "import pandas as pd"
   ]
  },
  {
   "cell_type": "code",
   "execution_count": 86,
   "metadata": {},
   "outputs": [],
   "source": [
    "a: pd.DataFrame = pd.read_csv(\"../../../julius/_rust/rustxnorm/output/cossim_matches.csv\")\n",
    "b: pd.DataFrame = pd.read_csv(\"../../../julius/_rust/rustxnorm/data/s1_drug_name_list_unique.csv\")"
   ]
  },
  {
   "cell_type": "code",
   "execution_count": 130,
   "metadata": {},
   "outputs": [],
   "source": [
    "INDEX = 0"
   ]
  },
  {
   "cell_type": "code",
   "execution_count": 131,
   "metadata": {},
   "outputs": [],
   "source": [
    "indices = a.loc[a[\"index\"] == INDEX].index"
   ]
  },
  {
   "cell_type": "code",
   "execution_count": 132,
   "metadata": {},
   "outputs": [],
   "source": [
    "matches = list(a.iloc[indices][' match_idx'])"
   ]
  },
  {
   "cell_type": "code",
   "execution_count": 133,
   "metadata": {},
   "outputs": [
    {
     "data": {
      "text/plain": [
       "[12396, 86714, 34449, 18177, 114086, 120839, 197284, 24874, 11162]"
      ]
     },
     "execution_count": 133,
     "metadata": {},
     "output_type": "execute_result"
    }
   ],
   "source": [
    "matches"
   ]
  },
  {
   "cell_type": "code",
   "execution_count": 134,
   "metadata": {},
   "outputs": [
    {
     "data": {
      "text/plain": [
       "drug_name    ETOPOSIDE\n",
       "Name: 0, dtype: object"
      ]
     },
     "execution_count": 134,
     "metadata": {},
     "output_type": "execute_result"
    }
   ],
   "source": [
    "b.iloc[INDEX]"
   ]
  },
  {
   "cell_type": "code",
   "execution_count": 135,
   "metadata": {},
   "outputs": [
    {
     "data": {
      "text/html": [
       "<div>\n",
       "<style scoped>\n",
       "    .dataframe tbody tr th:only-of-type {\n",
       "        vertical-align: middle;\n",
       "    }\n",
       "\n",
       "    .dataframe tbody tr th {\n",
       "        vertical-align: top;\n",
       "    }\n",
       "\n",
       "    .dataframe thead th {\n",
       "        text-align: right;\n",
       "    }\n",
       "</style>\n",
       "<table border=\"1\" class=\"dataframe\">\n",
       "  <thead>\n",
       "    <tr style=\"text-align: right;\">\n",
       "      <th></th>\n",
       "      <th>drug_name</th>\n",
       "    </tr>\n",
       "  </thead>\n",
       "  <tbody>\n",
       "    <tr>\n",
       "      <th>12396</th>\n",
       "      <td>ETOPOSIDE ETOPOSIDE</td>\n",
       "    </tr>\n",
       "    <tr>\n",
       "      <th>86714</th>\n",
       "      <td>ETOPOSIDE  ETOPOSIDE</td>\n",
       "    </tr>\n",
       "    <tr>\n",
       "      <th>34449</th>\n",
       "      <td>ETOPOSIDE ETOPOSIDE ETOPOSIDE</td>\n",
       "    </tr>\n",
       "    <tr>\n",
       "      <th>18177</th>\n",
       "      <td>ETOPOSIDE ETOPOSIDE UNKNOWN ETOPOSIDE</td>\n",
       "    </tr>\n",
       "    <tr>\n",
       "      <th>114086</th>\n",
       "      <td>ETOPOSIDE MG</td>\n",
       "    </tr>\n",
       "    <tr>\n",
       "      <th>120839</th>\n",
       "      <td>ETOPOSIDE  MG</td>\n",
       "    </tr>\n",
       "    <tr>\n",
       "      <th>197284</th>\n",
       "      <td>ETOPOSIDE   MG</td>\n",
       "    </tr>\n",
       "    <tr>\n",
       "      <th>24874</th>\n",
       "      <td>ETOPOSIDE TEVA ETOPOSIDE</td>\n",
       "    </tr>\n",
       "    <tr>\n",
       "      <th>11162</th>\n",
       "      <td>ETOPOSID</td>\n",
       "    </tr>\n",
       "  </tbody>\n",
       "</table>\n",
       "</div>"
      ],
      "text/plain": [
       "                                    drug_name\n",
       "12396                     ETOPOSIDE ETOPOSIDE\n",
       "86714                    ETOPOSIDE  ETOPOSIDE\n",
       "34449           ETOPOSIDE ETOPOSIDE ETOPOSIDE\n",
       "18177   ETOPOSIDE ETOPOSIDE UNKNOWN ETOPOSIDE\n",
       "114086                           ETOPOSIDE MG\n",
       "120839                          ETOPOSIDE  MG\n",
       "197284                         ETOPOSIDE   MG\n",
       "24874                ETOPOSIDE TEVA ETOPOSIDE\n",
       "11162                                ETOPOSID"
      ]
     },
     "execution_count": 135,
     "metadata": {},
     "output_type": "execute_result"
    }
   ],
   "source": [
    "b.iloc[matches]"
   ]
  },
  {
   "cell_type": "code",
   "execution_count": 154,
   "metadata": {},
   "outputs": [],
   "source": [
    "reduced = a.iloc[:, 0].value_counts()"
   ]
  },
  {
   "cell_type": "code",
   "execution_count": 155,
   "metadata": {},
   "outputs": [],
   "source": [
    "reduced_dict = reduced.to_dict()"
   ]
  },
  {
   "cell_type": "code",
   "execution_count": 156,
   "metadata": {},
   "outputs": [],
   "source": [
    "import matplotlib.pyplot as plt"
   ]
  },
  {
   "cell_type": "code",
   "execution_count": 161,
   "metadata": {},
   "outputs": [],
   "source": [
    "reduced_indices = reduced.index"
   ]
  },
  {
   "cell_type": "code",
   "execution_count": 163,
   "metadata": {},
   "outputs": [],
   "source": [
    "reduced_names = b.iloc[reduced_indices]"
   ]
  },
  {
   "cell_type": "code",
   "execution_count": 164,
   "metadata": {},
   "outputs": [
    {
     "data": {
      "text/html": [
       "<div>\n",
       "<style scoped>\n",
       "    .dataframe tbody tr th:only-of-type {\n",
       "        vertical-align: middle;\n",
       "    }\n",
       "\n",
       "    .dataframe tbody tr th {\n",
       "        vertical-align: top;\n",
       "    }\n",
       "\n",
       "    .dataframe thead th {\n",
       "        text-align: right;\n",
       "    }\n",
       "</style>\n",
       "<table border=\"1\" class=\"dataframe\">\n",
       "  <thead>\n",
       "    <tr style=\"text-align: right;\">\n",
       "      <th></th>\n",
       "      <th>drug_name</th>\n",
       "    </tr>\n",
       "  </thead>\n",
       "  <tbody>\n",
       "    <tr>\n",
       "      <th>0</th>\n",
       "      <td>ETOPOSIDE</td>\n",
       "    </tr>\n",
       "    <tr>\n",
       "      <th>212217</th>\n",
       "      <td>METAMIZOL METAMIZOLE SODIUM</td>\n",
       "    </tr>\n",
       "    <tr>\n",
       "      <th>59865</th>\n",
       "      <td>SULFAMETHOXAZOLE AND TRIMETHOPRIM SULFAMETHOXA...</td>\n",
       "    </tr>\n",
       "    <tr>\n",
       "      <th>66750</th>\n",
       "      <td>MORPHINE CONCENTRATE MORPHINE MORPHINE</td>\n",
       "    </tr>\n",
       "    <tr>\n",
       "      <th>49628</th>\n",
       "      <td>ALUMINIUM HYDROXIDE WMAGNESIUM HYDROXIDE</td>\n",
       "    </tr>\n",
       "    <tr>\n",
       "      <th>...</th>\n",
       "      <td>...</td>\n",
       "    </tr>\n",
       "    <tr>\n",
       "      <th>36985</th>\n",
       "      <td>NIFEDITINE</td>\n",
       "    </tr>\n",
       "    <tr>\n",
       "      <th>13771</th>\n",
       "      <td>CALCIUM RESONIUM</td>\n",
       "    </tr>\n",
       "    <tr>\n",
       "      <th>85504</th>\n",
       "      <td>ORAL HYPOGLYCEMICS</td>\n",
       "    </tr>\n",
       "    <tr>\n",
       "      <th>3532</th>\n",
       "      <td>PLASIL</td>\n",
       "    </tr>\n",
       "    <tr>\n",
       "      <th>204679</th>\n",
       "      <td>FLUTICASON FLIXONASE UGDO NEUSSPRAY</td>\n",
       "    </tr>\n",
       "  </tbody>\n",
       "</table>\n",
       "<p>83384 rows × 1 columns</p>\n",
       "</div>"
      ],
      "text/plain": [
       "                                                drug_name\n",
       "0                                               ETOPOSIDE\n",
       "212217                        METAMIZOL METAMIZOLE SODIUM\n",
       "59865   SULFAMETHOXAZOLE AND TRIMETHOPRIM SULFAMETHOXA...\n",
       "66750              MORPHINE CONCENTRATE MORPHINE MORPHINE\n",
       "49628            ALUMINIUM HYDROXIDE WMAGNESIUM HYDROXIDE\n",
       "...                                                   ...\n",
       "36985                                          NIFEDITINE\n",
       "13771                                    CALCIUM RESONIUM\n",
       "85504                                  ORAL HYPOGLYCEMICS\n",
       "3532                                               PLASIL\n",
       "204679                FLUTICASON FLIXONASE UGDO NEUSSPRAY\n",
       "\n",
       "[83384 rows x 1 columns]"
      ]
     },
     "execution_count": 164,
     "metadata": {},
     "output_type": "execute_result"
    }
   ],
   "source": [
    "reduced_names"
   ]
  },
  {
   "cell_type": "code",
   "execution_count": null,
   "metadata": {},
   "outputs": [],
   "source": []
  }
 ],
 "metadata": {
  "kernelspec": {
   "display_name": "Python 3",
   "language": "python",
   "name": "python3"
  },
  "language_info": {
   "codemirror_mode": {
    "name": "ipython",
    "version": 3
   },
   "file_extension": ".py",
   "mimetype": "text/x-python",
   "name": "python",
   "nbconvert_exporter": "python",
   "pygments_lexer": "ipython3",
   "version": "3.7.9"
  }
 },
 "nbformat": 4,
 "nbformat_minor": 4
}
